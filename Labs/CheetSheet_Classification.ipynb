{
  "nbformat": 4,
  "nbformat_minor": 0,
  "metadata": {
    "colab": {
      "name": "Classification_CheetSheet_2020.ML.ipynb",
      "provenance": [],
      "collapsed_sections": []
    },
    "kernelspec": {
      "name": "python3",
      "display_name": "Python 3"
    }
  },
  "cells": [
    {
      "cell_type": "markdown",
      "metadata": {
        "id": "1NgRAVVa6b-z"
      },
      "source": [
        "# 분류 문제 데이터셋\n",
        "## 아래의 예제 중 원하는 데이터 Cell 만 실행\n",
        "- 필기체 숫자 데이터 분류 문제 (MNIST)\n",
        "- 유방암 악성/양성 분류 문제\n",
        "- 당뇨병 환자 분류 문제\n",
        "- 와인 종류 분류 문제"
      ]
    },
    {
      "cell_type": "code",
      "metadata": {
        "id": "XtjwjVMrCBET",
        "outputId": "ab51ea6d-3f71-4044-ace9-cf94ac1b5317",
        "colab": {
          "base_uri": "https://localhost:8080/",
          "height": 34
        }
      },
      "source": [
        "### MNIST\n",
        "from sklearn import datasets\n",
        "digits=datasets.load_digits()\n",
        "\n",
        "n_samples = len(digits.images)\n",
        "data = digits.images.reshape((n_samples, -1))\n",
        "print(data.shape)\n",
        "\n",
        "from sklearn.model_selection import train_test_split\n",
        "X_train, X_test, y_train, y_test = train_test_split(data, digits.target, test_size=0.3, shuffle=True)\n"
      ],
      "execution_count": 19,
      "outputs": [
        {
          "output_type": "stream",
          "text": [
            "(1797, 64)\n"
          ],
          "name": "stdout"
        }
      ]
    },
    {
      "cell_type": "code",
      "metadata": {
        "id": "9wTzQawMtRzB",
        "outputId": "02c2c8ba-47bd-43ef-d3aa-e13aa2f55c61",
        "colab": {
          "base_uri": "https://localhost:8080/",
          "height": 34
        }
      },
      "source": [
        "### 유방암\n",
        "from sklearn import datasets\n",
        "cancer=datasets.load_breast_cancer()\n",
        "\n",
        "n_samples = len(cancer.data)\n",
        "data = cancer.data.reshape((n_samples, -1))\n",
        "print(data.shape)\n",
        "\n",
        "from sklearn.model_selection import train_test_split\n",
        "X_train, X_test, y_train, y_test = train_test_split(data, cancer.target, test_size=0.3, shuffle=True)\n"
      ],
      "execution_count": 22,
      "outputs": [
        {
          "output_type": "stream",
          "text": [
            "(569, 30)\n"
          ],
          "name": "stdout"
        }
      ]
    },
    {
      "cell_type": "code",
      "metadata": {
        "id": "7jdI59lptk9h",
        "outputId": "e800a0d3-6f1c-4a5e-a4db-b44b84fbc02a",
        "colab": {
          "base_uri": "https://localhost:8080/",
          "height": 34
        }
      },
      "source": [
        "### 당뇨병\n",
        "\n",
        "from sklearn import datasets\n",
        "diabetes=datasets.load_diabetes()\n",
        "\n",
        "n_samples = len(diabetes.data)\n",
        "data = diabetes.data.reshape((n_samples, -1))\n",
        "print(data.shape)\n",
        "\n",
        "from sklearn.model_selection import train_test_split\n",
        "X_train, X_test, y_train, y_test = train_test_split(data, diabetes.target, test_size=0.3, shuffle=True)\n"
      ],
      "execution_count": 20,
      "outputs": [
        {
          "output_type": "stream",
          "text": [
            "(442, 10)\n"
          ],
          "name": "stdout"
        }
      ]
    },
    {
      "cell_type": "code",
      "metadata": {
        "id": "7M2VVOF_t6Xq",
        "outputId": "5f20acef-8ea5-436b-ea50-8dd31204da58",
        "colab": {
          "base_uri": "https://localhost:8080/",
          "height": 34
        }
      },
      "source": [
        "### 와인\n",
        "\n",
        "from sklearn import datasets\n",
        "wine=datasets.load_wine()\n",
        "\n",
        "n_samples = len(wine.data)\n",
        "data = wine.data.reshape((n_samples, -1))\n",
        "print(data.shape)\n",
        "\n",
        "from sklearn.model_selection import train_test_split\n",
        "X_train, X_test, y_train, y_test = train_test_split(data, wine.target, test_size=0.3, shuffle=True)\n"
      ],
      "execution_count": 23,
      "outputs": [
        {
          "output_type": "stream",
          "text": [
            "(178, 13)\n"
          ],
          "name": "stdout"
        }
      ]
    },
    {
      "cell_type": "markdown",
      "metadata": {
        "id": "ffLE4JDY61-7"
      },
      "source": [
        "# 분류 알고리즘 별 성능 평가\n",
        "## [1] 데이터 전처리 본인 스스로 공부!!\n",
        "## [2] 각 알고리즘 마다 설정 가능한 파라미터는 본인 스스로 공부!\n",
        "- Decision Tree Classifier\n",
        "- DA Classifier\n",
        "- Logistic Regression Classifier\n",
        "- KNN Classifier"
      ]
    },
    {
      "cell_type": "markdown",
      "metadata": {
        "id": "xpjsspuCbjfR"
      },
      "source": [
        "### Decision Tree"
      ]
    },
    {
      "cell_type": "code",
      "metadata": {
        "id": "8x7oLPgIZRA4",
        "outputId": "3b0ecc3f-db3d-49ef-85f0-82079d2cc7a3",
        "colab": {
          "base_uri": "https://localhost:8080/",
          "height": 102
        }
      },
      "source": [
        "from sklearn.tree import DecisionTreeClassifier\n",
        "\n",
        "dtc = DecisionTreeClassifier(criterion='gini', random_state=1)\n",
        "dtc.fit(X_train, y_train)\n",
        "y_train_pred = dtc.predict(X_train)\n",
        "y_test_pred = dtc.predict(X_test)\n",
        "\n",
        "from sklearn.metrics import accuracy_score\n",
        "print(accuracy_score(y_train, y_train_pred))\n",
        "print(accuracy_score(y_test, y_test_pred))\n",
        "\n",
        "from sklearn.metrics import confusion_matrix\n",
        "print(confusion_matrix(y_test,y_test_pred))"
      ],
      "execution_count": 24,
      "outputs": [
        {
          "output_type": "stream",
          "text": [
            "1.0\n",
            "0.9444444444444444\n",
            "[[15  0  0]\n",
            " [ 1 21  2]\n",
            " [ 0  0 15]]\n"
          ],
          "name": "stdout"
        }
      ]
    },
    {
      "cell_type": "markdown",
      "metadata": {
        "id": "1gyvSpVda6WC"
      },
      "source": [
        "### LDA"
      ]
    },
    {
      "cell_type": "code",
      "metadata": {
        "id": "PlWSjMRSaaIe",
        "outputId": "da4093c3-5958-485e-e5c3-4d201b996b49",
        "colab": {
          "base_uri": "https://localhost:8080/",
          "height": 102
        }
      },
      "source": [
        "from sklearn.discriminant_analysis import LinearDiscriminantAnalysis\n",
        "\n",
        "cld = LinearDiscriminantAnalysis()\n",
        "cld.fit(X_train,y_train)\n",
        "y_train_pred = cld.predict(X_train)\n",
        "y_test_pred = cld.predict(X_test)\n",
        "\n",
        "from sklearn.metrics import accuracy_score\n",
        "print(accuracy_score(y_train, y_train_pred))\n",
        "print(accuracy_score(y_test, y_test_pred))\n",
        "\n",
        "from sklearn.metrics import confusion_matrix\n",
        "print(confusion_matrix(y_test,y_test_pred))"
      ],
      "execution_count": 25,
      "outputs": [
        {
          "output_type": "stream",
          "text": [
            "1.0\n",
            "0.9814814814814815\n",
            "[[15  0  0]\n",
            " [ 0 23  1]\n",
            " [ 0  0 15]]\n"
          ],
          "name": "stdout"
        }
      ]
    },
    {
      "cell_type": "markdown",
      "metadata": {
        "id": "vlJCtGfeboVL"
      },
      "source": [
        "### QDA"
      ]
    },
    {
      "cell_type": "code",
      "metadata": {
        "id": "qNl-_RhJbRGa",
        "outputId": "1176116d-3e30-47b2-b3dc-963f653a30f3",
        "colab": {
          "base_uri": "https://localhost:8080/",
          "height": 102
        }
      },
      "source": [
        "from sklearn.discriminant_analysis import QuadraticDiscriminantAnalysis\n",
        "\n",
        "cld = QuadraticDiscriminantAnalysis()\n",
        "cld.fit(X_train,y_train)\n",
        "y_train_pred = cld.predict(X_train)\n",
        "y_test_pred = cld.predict(X_test)\n",
        "\n",
        "from sklearn.metrics import accuracy_score\n",
        "print(accuracy_score(y_train, y_train_pred))\n",
        "print(accuracy_score(y_test, y_test_pred))\n",
        "\n",
        "from sklearn.metrics import confusion_matrix\n",
        "print(confusion_matrix(y_test,y_test_pred))"
      ],
      "execution_count": 26,
      "outputs": [
        {
          "output_type": "stream",
          "text": [
            "0.9919354838709677\n",
            "0.9814814814814815\n",
            "[[15  0  0]\n",
            " [ 0 24  0]\n",
            " [ 0  1 14]]\n"
          ],
          "name": "stdout"
        }
      ]
    },
    {
      "cell_type": "markdown",
      "metadata": {
        "id": "cmgN-xTzb3GF"
      },
      "source": [
        "### Logistic Regression"
      ]
    },
    {
      "cell_type": "code",
      "metadata": {
        "id": "KesGPL-PbvBb",
        "outputId": "32bf502c-c984-47b8-fbe4-8f1c28dc09a0",
        "colab": {
          "base_uri": "https://localhost:8080/",
          "height": 258
        }
      },
      "source": [
        "from sklearn.linear_model import LogisticRegression\n",
        "\n",
        "lr = LogisticRegression(random_state=1)\n",
        "lr.fit(X_train, y_train)\n",
        "y_train_pred = cld.predict(X_train)\n",
        "y_test_pred = cld.predict(X_test)\n",
        "\n",
        "\n",
        "from sklearn.metrics import accuracy_score\n",
        "print(accuracy_score(y_train, y_train_pred))\n",
        "print(accuracy_score(y_test, y_test_pred))\n",
        "\n",
        "from sklearn.metrics import confusion_matrix\n",
        "print(confusion_matrix(y_test,y_test_pred))"
      ],
      "execution_count": 27,
      "outputs": [
        {
          "output_type": "stream",
          "text": [
            "0.9919354838709677\n",
            "0.9814814814814815\n",
            "[[15  0  0]\n",
            " [ 0 24  0]\n",
            " [ 0  1 14]]\n"
          ],
          "name": "stdout"
        },
        {
          "output_type": "stream",
          "text": [
            "/usr/local/lib/python3.6/dist-packages/sklearn/linear_model/_logistic.py:940: ConvergenceWarning: lbfgs failed to converge (status=1):\n",
            "STOP: TOTAL NO. of ITERATIONS REACHED LIMIT.\n",
            "\n",
            "Increase the number of iterations (max_iter) or scale the data as shown in:\n",
            "    https://scikit-learn.org/stable/modules/preprocessing.html\n",
            "Please also refer to the documentation for alternative solver options:\n",
            "    https://scikit-learn.org/stable/modules/linear_model.html#logistic-regression\n",
            "  extra_warning_msg=_LOGISTIC_SOLVER_CONVERGENCE_MSG)\n"
          ],
          "name": "stderr"
        }
      ]
    },
    {
      "cell_type": "markdown",
      "metadata": {
        "id": "DP4zYAc2mXJG"
      },
      "source": [
        "### KNN"
      ]
    },
    {
      "cell_type": "code",
      "metadata": {
        "id": "pB0HZ8VBc9gt",
        "outputId": "38ed8009-9c91-4a88-e247-a005754c41ea",
        "colab": {
          "base_uri": "https://localhost:8080/",
          "height": 102
        }
      },
      "source": [
        "from sklearn.neighbors import KNeighborsClassifier\n",
        "\n",
        "knn = KNeighborsClassifier()\n",
        "knn.fit(X_train,y_train)\n",
        "\n",
        "y_train_pred = knn.predict(X_train)\n",
        "y_test_pred = knn.predict(X_test)\n",
        "\n",
        "\n",
        "from sklearn.metrics import accuracy_score\n",
        "print(accuracy_score(y_train, y_train_pred))\n",
        "print(accuracy_score(y_test, y_test_pred))\n",
        "\n",
        "from sklearn.metrics import confusion_matrix\n",
        "print(confusion_matrix(y_test,y_test_pred))"
      ],
      "execution_count": 28,
      "outputs": [
        {
          "output_type": "stream",
          "text": [
            "0.8145161290322581\n",
            "0.7222222222222222\n",
            "[[15  0  0]\n",
            " [ 2 15  7]\n",
            " [ 1  5  9]]\n"
          ],
          "name": "stdout"
        }
      ]
    },
    {
      "cell_type": "code",
      "metadata": {
        "id": "gyNN2PXLnONq"
      },
      "source": [
        ""
      ],
      "execution_count": 8,
      "outputs": []
    }
  ]
}