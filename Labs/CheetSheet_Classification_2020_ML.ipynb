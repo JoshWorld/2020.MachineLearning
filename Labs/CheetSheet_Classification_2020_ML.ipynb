{
  "nbformat": 4,
  "nbformat_minor": 0,
  "metadata": {
    "colab": {
      "name": "CheetSheet_Classification_2020.ML.ipynb",
      "provenance": [],
      "collapsed_sections": []
    },
    "kernelspec": {
      "name": "python3",
      "display_name": "Python 3"
    }
  },
  "cells": [
    {
      "cell_type": "markdown",
      "metadata": {
        "id": "1NgRAVVa6b-z"
      },
      "source": [
        "# 분류 문제 데이터셋\n",
        "## 아래의 예제 중 원하는 데이터 Cell 만 실행\n",
        "- 필기체 숫자 데이터 분류 문제 (MNIST)\n",
        "- 유방암 악성/양성 분류 문제\n",
        "- 당뇨병 환자 분류 문제\n",
        "- 와인 종류 분류 문제"
      ]
    },
    {
      "cell_type": "code",
      "metadata": {
        "id": "XtjwjVMrCBET",
        "outputId": "50548b8e-e06a-4bff-d423-d40f93b1c26c",
        "colab": {
          "base_uri": "https://localhost:8080/",
          "height": 34
        }
      },
      "source": [
        "### MNIST\n",
        "from sklearn import datasets\n",
        "digits=datasets.load_digits()\n",
        "\n",
        "n_samples = len(digits.images)\n",
        "data = digits.images.reshape((n_samples, -1))\n",
        "print(data.shape)\n",
        "\n",
        "from sklearn.model_selection import train_test_split\n",
        "X_train, X_test, y_train, y_test = train_test_split(data, digits.target, test_size=0.3, shuffle=True)\n"
      ],
      "execution_count": 1,
      "outputs": [
        {
          "output_type": "stream",
          "text": [
            "(1797, 64)\n"
          ],
          "name": "stdout"
        }
      ]
    },
    {
      "cell_type": "code",
      "metadata": {
        "id": "9wTzQawMtRzB",
        "outputId": "50243927-4a29-4c2b-bfcc-1c6b9cd57d1e",
        "colab": {
          "base_uri": "https://localhost:8080/",
          "height": 34
        }
      },
      "source": [
        "### 유방암\n",
        "from sklearn import datasets\n",
        "cancer=datasets.load_breast_cancer()\n",
        "\n",
        "n_samples = len(cancer.data)\n",
        "data = cancer.data.reshape((n_samples, -1))\n",
        "print(data.shape)\n",
        "\n",
        "from sklearn.model_selection import train_test_split\n",
        "X_train, X_test, y_train, y_test = train_test_split(data, cancer.target, test_size=0.3, shuffle=True)\n"
      ],
      "execution_count": 2,
      "outputs": [
        {
          "output_type": "stream",
          "text": [
            "(569, 30)\n"
          ],
          "name": "stdout"
        }
      ]
    },
    {
      "cell_type": "code",
      "metadata": {
        "id": "7jdI59lptk9h",
        "outputId": "a8d9dca0-e0cc-4384-fae9-d79b251f73d8",
        "colab": {
          "base_uri": "https://localhost:8080/",
          "height": 34
        }
      },
      "source": [
        "### 당뇨병\n",
        "\n",
        "from sklearn import datasets\n",
        "diabetes=datasets.load_diabetes()\n",
        "\n",
        "n_samples = len(diabetes.data)\n",
        "data = diabetes.data.reshape((n_samples, -1))\n",
        "print(data.shape)\n",
        "\n",
        "from sklearn.model_selection import train_test_split\n",
        "X_train, X_test, y_train, y_test = train_test_split(data, diabetes.target, test_size=0.3, shuffle=True)\n"
      ],
      "execution_count": 3,
      "outputs": [
        {
          "output_type": "stream",
          "text": [
            "(442, 10)\n"
          ],
          "name": "stdout"
        }
      ]
    },
    {
      "cell_type": "code",
      "metadata": {
        "id": "7M2VVOF_t6Xq",
        "outputId": "30175a67-aee8-4e91-bfe6-52588f8e4e44",
        "colab": {
          "base_uri": "https://localhost:8080/",
          "height": 34
        }
      },
      "source": [
        "### 와인\n",
        "\n",
        "from sklearn import datasets\n",
        "wine=datasets.load_wine()\n",
        "\n",
        "n_samples = len(wine.data)\n",
        "data = wine.data.reshape((n_samples, -1))\n",
        "print(data.shape)\n",
        "\n",
        "from sklearn.model_selection import train_test_split\n",
        "X_train, X_test, y_train, y_test = train_test_split(data, wine.target, test_size=0.3, shuffle=True)\n"
      ],
      "execution_count": 4,
      "outputs": [
        {
          "output_type": "stream",
          "text": [
            "(178, 13)\n"
          ],
          "name": "stdout"
        }
      ]
    },
    {
      "cell_type": "markdown",
      "metadata": {
        "id": "ffLE4JDY61-7"
      },
      "source": [
        "# 분류 알고리즘 별 성능 평가\n",
        "## [1] 데이터 전처리 본인 스스로 공부!!\n",
        "## [2] 각 알고리즘 마다 설정 가능한 파라미터는 본인 스스로 공부!\n",
        "- Decision Tree Classifier\n",
        "- DA Classifier\n",
        "- Logistic Regression Classifier\n",
        "- KNN Classifier"
      ]
    },
    {
      "cell_type": "markdown",
      "metadata": {
        "id": "xpjsspuCbjfR"
      },
      "source": [
        "### Decision Tree"
      ]
    },
    {
      "cell_type": "code",
      "metadata": {
        "id": "8x7oLPgIZRA4",
        "outputId": "9b51fe9b-0665-4928-922e-6e0fe8973a36",
        "colab": {
          "base_uri": "https://localhost:8080/",
          "height": 102
        }
      },
      "source": [
        "from sklearn.tree import DecisionTreeClassifier\n",
        "\n",
        "dtc = DecisionTreeClassifier(criterion='gini', random_state=1)\n",
        "dtc.fit(X_train, y_train)\n",
        "y_train_pred = dtc.predict(X_train)\n",
        "y_test_pred = dtc.predict(X_test)\n",
        "\n",
        "from sklearn.metrics import accuracy_score\n",
        "print(accuracy_score(y_train, y_train_pred))\n",
        "print(accuracy_score(y_test, y_test_pred))\n",
        "\n",
        "from sklearn.metrics import confusion_matrix\n",
        "print(confusion_matrix(y_test,y_test_pred))"
      ],
      "execution_count": 5,
      "outputs": [
        {
          "output_type": "stream",
          "text": [
            "1.0\n",
            "0.8888888888888888\n",
            "[[16  0  0]\n",
            " [ 2 19  2]\n",
            " [ 0  2 13]]\n"
          ],
          "name": "stdout"
        }
      ]
    },
    {
      "cell_type": "markdown",
      "metadata": {
        "id": "1gyvSpVda6WC"
      },
      "source": [
        "### LDA"
      ]
    },
    {
      "cell_type": "code",
      "metadata": {
        "id": "PlWSjMRSaaIe",
        "outputId": "6241a8b7-910c-42f2-aec7-428a3721bb0c",
        "colab": {
          "base_uri": "https://localhost:8080/",
          "height": 102
        }
      },
      "source": [
        "from sklearn.discriminant_analysis import LinearDiscriminantAnalysis\n",
        "\n",
        "cld = LinearDiscriminantAnalysis()\n",
        "cld.fit(X_train,y_train)\n",
        "y_train_pred = cld.predict(X_train)\n",
        "y_test_pred = cld.predict(X_test)\n",
        "\n",
        "from sklearn.metrics import accuracy_score\n",
        "print(accuracy_score(y_train, y_train_pred))\n",
        "print(accuracy_score(y_test, y_test_pred))\n",
        "\n",
        "from sklearn.metrics import confusion_matrix\n",
        "print(confusion_matrix(y_test,y_test_pred))"
      ],
      "execution_count": 6,
      "outputs": [
        {
          "output_type": "stream",
          "text": [
            "1.0\n",
            "1.0\n",
            "[[16  0  0]\n",
            " [ 0 23  0]\n",
            " [ 0  0 15]]\n"
          ],
          "name": "stdout"
        }
      ]
    },
    {
      "cell_type": "markdown",
      "metadata": {
        "id": "vlJCtGfeboVL"
      },
      "source": [
        "### QDA"
      ]
    },
    {
      "cell_type": "code",
      "metadata": {
        "id": "qNl-_RhJbRGa",
        "outputId": "909c04fb-2a12-4db0-e726-5854d4d74f65",
        "colab": {
          "base_uri": "https://localhost:8080/",
          "height": 102
        }
      },
      "source": [
        "from sklearn.discriminant_analysis import QuadraticDiscriminantAnalysis\n",
        "\n",
        "cld = QuadraticDiscriminantAnalysis()\n",
        "cld.fit(X_train,y_train)\n",
        "y_train_pred = cld.predict(X_train)\n",
        "y_test_pred = cld.predict(X_test)\n",
        "\n",
        "from sklearn.metrics import accuracy_score\n",
        "print(accuracy_score(y_train, y_train_pred))\n",
        "print(accuracy_score(y_test, y_test_pred))\n",
        "\n",
        "from sklearn.metrics import confusion_matrix\n",
        "print(confusion_matrix(y_test,y_test_pred))"
      ],
      "execution_count": 7,
      "outputs": [
        {
          "output_type": "stream",
          "text": [
            "1.0\n",
            "0.9814814814814815\n",
            "[[16  0  0]\n",
            " [ 0 23  0]\n",
            " [ 0  1 14]]\n"
          ],
          "name": "stdout"
        }
      ]
    },
    {
      "cell_type": "markdown",
      "metadata": {
        "id": "cmgN-xTzb3GF"
      },
      "source": [
        "### Logistic Regression"
      ]
    },
    {
      "cell_type": "code",
      "metadata": {
        "id": "KesGPL-PbvBb",
        "outputId": "192eaf28-c0d3-4b13-d958-fa1bb24e676d",
        "colab": {
          "base_uri": "https://localhost:8080/",
          "height": 238
        }
      },
      "source": [
        "from sklearn.linear_model import LogisticRegression\n",
        "\n",
        "lr = LogisticRegression(random_state=1)\n",
        "lr.fit(X_train, y_train)\n",
        "y_train_pred = lr.predict(X_train)\n",
        "y_test_pred = lr.predict(X_test)\n",
        "\n",
        "\n",
        "from sklearn.metrics import accuracy_score\n",
        "print(accuracy_score(y_train, y_train_pred))\n",
        "print(accuracy_score(y_test, y_test_pred))\n",
        "\n",
        "from sklearn.metrics import confusion_matrix\n",
        "print(confusion_matrix(y_test,y_test_pred))"
      ],
      "execution_count": 8,
      "outputs": [
        {
          "output_type": "stream",
          "text": [
            "0.9596774193548387\n",
            "0.9629629629629629\n",
            "[[16  0  0]\n",
            " [ 1 22  0]\n",
            " [ 0  1 14]]\n"
          ],
          "name": "stdout"
        },
        {
          "output_type": "stream",
          "text": [
            "/usr/local/lib/python3.6/dist-packages/sklearn/linear_model/_logistic.py:940: ConvergenceWarning: lbfgs failed to converge (status=1):\n",
            "STOP: TOTAL NO. of ITERATIONS REACHED LIMIT.\n",
            "\n",
            "Increase the number of iterations (max_iter) or scale the data as shown in:\n",
            "    https://scikit-learn.org/stable/modules/preprocessing.html\n",
            "Please also refer to the documentation for alternative solver options:\n",
            "    https://scikit-learn.org/stable/modules/linear_model.html#logistic-regression\n",
            "  extra_warning_msg=_LOGISTIC_SOLVER_CONVERGENCE_MSG)\n"
          ],
          "name": "stderr"
        }
      ]
    },
    {
      "cell_type": "markdown",
      "metadata": {
        "id": "DP4zYAc2mXJG"
      },
      "source": [
        "### KNN"
      ]
    },
    {
      "cell_type": "code",
      "metadata": {
        "id": "pB0HZ8VBc9gt",
        "outputId": "577be557-3a43-4cea-9ccc-c68ffef83247",
        "colab": {
          "base_uri": "https://localhost:8080/",
          "height": 102
        }
      },
      "source": [
        "from sklearn.neighbors import KNeighborsClassifier\n",
        "\n",
        "knn = KNeighborsClassifier()\n",
        "knn.fit(X_train,y_train)\n",
        "\n",
        "y_train_pred = knn.predict(X_train)\n",
        "y_test_pred = knn.predict(X_test)\n",
        "\n",
        "\n",
        "from sklearn.metrics import accuracy_score\n",
        "print(accuracy_score(y_train, y_train_pred))\n",
        "print(accuracy_score(y_test, y_test_pred))\n",
        "\n",
        "from sklearn.metrics import confusion_matrix\n",
        "print(confusion_matrix(y_test,y_test_pred))"
      ],
      "execution_count": 9,
      "outputs": [
        {
          "output_type": "stream",
          "text": [
            "0.7983870967741935\n",
            "0.7592592592592593\n",
            "[[14  0  2]\n",
            " [ 2 15  6]\n",
            " [ 2  1 12]]\n"
          ],
          "name": "stdout"
        }
      ]
    },
    {
      "cell_type": "code",
      "metadata": {
        "id": "gyNN2PXLnONq"
      },
      "source": [
        ""
      ],
      "execution_count": 9,
      "outputs": []
    }
  ]
}