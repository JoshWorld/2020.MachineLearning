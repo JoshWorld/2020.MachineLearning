{
  "nbformat": 4,
  "nbformat_minor": 0,
  "metadata": {
    "colab": {
      "name": "Regression_CheetSheet_2020.ML.ipynb",
      "provenance": []
    },
    "kernelspec": {
      "name": "python3",
      "display_name": "Python 3"
    }
  },
  "cells": [
    {
      "cell_type": "markdown",
      "metadata": {
        "id": "YkZ95vl35_SM"
      },
      "source": [
        "# 회귀 문제 데이터셋\n",
        "## 아래의 두 예제 중 원하는 데이터 Cell 만 실행\n",
        "- 보스턴 집값 예측 문제\n",
        "- 캘리포니아 집값 예측 문제"
      ]
    },
    {
      "cell_type": "code",
      "metadata": {
        "id": "Xy974v-GvoNN",
        "outputId": "18b0d777-624b-41a3-9022-7c339ad6d3a5",
        "colab": {
          "base_uri": "https://localhost:8080/",
          "height": 68
        }
      },
      "source": [
        "### Boston Housing\n",
        "### Missing 없음\n",
        "from sklearn import datasets\n",
        "price=datasets.load_boston()\n",
        "\n",
        "n_samples = len(price.data)\n",
        "data = price.data.reshape((n_samples, -1))\n",
        "print(data.shape)\n",
        "\n",
        "from sklearn.model_selection import train_test_split\n",
        "X_train, X_test, y_train, y_test = train_test_split(data, price.target, test_size=0.3, shuffle=True)\n",
        "print(y_train.size)\n",
        "print(y_test.size)"
      ],
      "execution_count": 1,
      "outputs": [
        {
          "output_type": "stream",
          "text": [
            "(506, 13)\n",
            "354\n",
            "152\n"
          ],
          "name": "stdout"
        }
      ]
    },
    {
      "cell_type": "code",
      "metadata": {
        "id": "CHN4YGV9v2pu",
        "outputId": "ffb223ec-ced8-40bc-da32-37d3e78c1c58",
        "colab": {
          "base_uri": "https://localhost:8080/",
          "height": 105
        }
      },
      "source": [
        "### California Housing \n",
        "### Missing 없음\n",
        "\n",
        "from sklearn import datasets\n",
        "price=datasets.fetch_california_housing()\n",
        "\n",
        "n_samples = len(price.data)\n",
        "data = price.data.reshape((n_samples, -1))\n",
        "print(data.shape)\n",
        "\n",
        "from sklearn.model_selection import train_test_split\n",
        "X_train, X_test, y_train, y_test = train_test_split(data, price.target, test_size=0.3, shuffle=True)\n",
        "print(y_train.size)\n",
        "print(y_test.size)"
      ],
      "execution_count": 2,
      "outputs": [
        {
          "output_type": "stream",
          "text": [
            "Downloading Cal. housing from https://ndownloader.figshare.com/files/5976036 to /root/scikit_learn_data\n"
          ],
          "name": "stderr"
        },
        {
          "output_type": "stream",
          "text": [
            "(20640, 8)\n",
            "14448\n",
            "6192\n"
          ],
          "name": "stdout"
        }
      ]
    },
    {
      "cell_type": "markdown",
      "metadata": {
        "id": "WGd2EG4r6LWJ"
      },
      "source": [
        "# 회귀 알고리즘 별 성능 평가\n",
        "## [1] 데이터 전처리 본인 스스로 공부!!\n",
        "## [2] 각 알고리즘 마다 설정 가능한 파라미터는 본인 스스로 공부!\n",
        "- Linear Regressor\n",
        "- KNN Regressor\n",
        "- Decision Tree Regressor"
      ]
    },
    {
      "cell_type": "markdown",
      "metadata": {
        "id": "FJx-x3oZ5S6T"
      },
      "source": [
        "### Linear regression with Leaset square"
      ]
    },
    {
      "cell_type": "code",
      "metadata": {
        "id": "Q9c07fV25Jkg",
        "outputId": "d76bb3ab-f27f-4522-828e-d4dc915e0f63",
        "colab": {
          "base_uri": "https://localhost:8080/",
          "height": 51
        }
      },
      "source": [
        "from sklearn.linear_model import LinearRegression\n",
        "\n",
        "regressor = LinearRegression()\n",
        "regressor.fit(X_train, y_train)\n",
        "\n",
        "y_train_pred = regressor.predict(X_train)\n",
        "y_test_pred = regressor.predict(X_test)\n",
        "\n",
        "from sklearn.metrics import mean_squared_error\n",
        "print(mean_squared_error(y_train, y_train_pred))\n",
        "print(mean_squared_error(y_test, y_test_pred))\n"
      ],
      "execution_count": 3,
      "outputs": [
        {
          "output_type": "stream",
          "text": [
            "0.5328509729051809\n",
            "0.5070669634071715\n"
          ],
          "name": "stdout"
        }
      ]
    },
    {
      "cell_type": "markdown",
      "metadata": {
        "id": "1thO3K4ax6AX"
      },
      "source": [
        "### KNN"
      ]
    },
    {
      "cell_type": "code",
      "metadata": {
        "id": "ZiVluJohwVDJ",
        "outputId": "832473d7-dee0-4d6f-8aac-dd6f9a00baf1",
        "colab": {
          "base_uri": "https://localhost:8080/",
          "height": 51
        }
      },
      "source": [
        "from sklearn.neighbors import KNeighborsRegressor\n",
        "regressor = KNeighborsRegressor()\n",
        "\n",
        "regressor.fit(X_train, y_train)\n",
        "\n",
        "y_train_pred = regressor.predict(X_train)\n",
        "y_test_pred = regressor.predict(X_test)\n",
        "\n",
        "from sklearn.metrics import mean_squared_error\n",
        "print(mean_squared_error(y_train, y_train_pred))\n",
        "print(mean_squared_error(y_test, y_test_pred))\n",
        "\n"
      ],
      "execution_count": 4,
      "outputs": [
        {
          "output_type": "stream",
          "text": [
            "0.7533091365352975\n",
            "1.111676193902235\n"
          ],
          "name": "stdout"
        }
      ]
    },
    {
      "cell_type": "markdown",
      "metadata": {
        "id": "fwVnYWGSx7rg"
      },
      "source": [
        "### Decision Tree"
      ]
    },
    {
      "cell_type": "code",
      "metadata": {
        "id": "qMJkPvF4xRbg",
        "outputId": "1fdad063-d80c-4c4e-9ca3-40c56b1080de",
        "colab": {
          "base_uri": "https://localhost:8080/",
          "height": 51
        }
      },
      "source": [
        "from sklearn.tree import DecisionTreeRegressor\n",
        "\n",
        "regressor = DecisionTreeRegressor(random_state=1)\n",
        "regressor.fit(X_train, y_train)\n",
        "\n",
        "y_train_pred = regressor.predict(X_train)\n",
        "y_test_pred = regressor.predict(X_test)\n",
        "\n",
        "from sklearn.metrics import mean_squared_error\n",
        "print(mean_squared_error(y_train, y_train_pred))\n",
        "print(mean_squared_error(y_test, y_test_pred))\n"
      ],
      "execution_count": 5,
      "outputs": [
        {
          "output_type": "stream",
          "text": [
            "5.412678636936588e-14\n",
            "0.49007273622244796\n"
          ],
          "name": "stdout"
        }
      ]
    }
  ]
}